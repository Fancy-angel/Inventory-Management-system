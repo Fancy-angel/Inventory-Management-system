{
  "nbformat": 4,
  "nbformat_minor": 0,
  "metadata": {
    "colab": {
      "name": "Purchasing item.ipynb",
      "provenance": []
    },
    "kernelspec": {
      "name": "python3",
      "display_name": "Python 3"
    },
    "language_info": {
      "name": "python"
    }
  },
  "cells": [
    {
      "cell_type": "code",
      "metadata": {
        "id": "KD8NGv-XPDSc"
      },
      "source": [
        "import json"
      ],
      "execution_count": 5,
      "outputs": []
    },
    {
      "cell_type": "code",
      "metadata": {
        "id": "1C3ghqxlPVMA"
      },
      "source": [
        "fd=open(\"record.json\",'r')\n",
        "r=fd.read()\n",
        "fd.close()"
      ],
      "execution_count": 6,
      "outputs": []
    },
    {
      "cell_type": "code",
      "metadata": {
        "id": "eDkKX1BYPlnv"
      },
      "source": [
        "records=json.loads(r)"
      ],
      "execution_count": 7,
      "outputs": []
    },
    {
      "cell_type": "code",
      "metadata": {
        "colab": {
          "base_uri": "https://localhost:8080/"
        },
        "id": "Ucg2YADhPq9S",
        "outputId": "396e3eef-348b-4c0f-e6b5-a75c82a9d283"
      },
      "source": [
        "records"
      ],
      "execution_count": 8,
      "outputs": [
        {
          "output_type": "execute_result",
          "data": {
            "text/plain": [
              "{'1001': {'exp': 2020,\n",
              "  'name': 'Choco Cake',\n",
              "  'phno': 81234567,\n",
              "  'pr': 100,\n",
              "  'qn': 34},\n",
              " '1002': {'exp': 2023,\n",
              "  'name': 'Milk Cake',\n",
              "  'phno': 812323567,\n",
              "  'pr': 800,\n",
              "  'qn': 100},\n",
              " '1003': {'exp': 2024,\n",
              "  'name': 'Drink',\n",
              "  'phno': 812323567,\n",
              "  'pr': 85,\n",
              "  'qn': 100},\n",
              " '1004': {'exp': 2025,\n",
              "  'name': 'Candy',\n",
              "  'phno': 8123235673,\n",
              "  'pr': 5,\n",
              "  'qn': 1000},\n",
              " '1005': {'exp': 2025, 'name': 'Pen', 'phno': 912323567, 'pr': 20, 'qn': 100},\n",
              " '1006': {'exp': 2021,\n",
              "  'name': 'Phone',\n",
              "  'phno': 712323567,\n",
              "  'pr': 50000,\n",
              "  'qn': 10},\n",
              " '1007': {'exp': 2023, 'name': 'Mic', 'phno': 612323567, 'pr': 1500, 'qn': 0},\n",
              " '1008': {'exp': 2020, 'name': 'Case', 'phno': 98765337, 'pr': 599, 'qn': 5},\n",
              " '1009': {'exp': 2030,\n",
              "  'name': 'ball',\n",
              "  'phno': 2458765337,\n",
              "  'pr': 500,\n",
              "  'qn': 50},\n",
              " '1010': {'exp': 2036,\n",
              "  'name': 'glass',\n",
              "  'phno': 98765337,\n",
              "  'pr': 1599,\n",
              "  'qn': 500},\n",
              " '1011': {'exp': 2025, 'name': 'Coke', 'phno': 78765337, 'pr': 199, 'qn': 50},\n",
              " '1012': {'exp': 2056, 'name': 'Book', 'phno': 778765337, 'pr': 150, 'qn': 10},\n",
              " '1013': {'exp': 2055,\n",
              "  'name': 'shirt',\n",
              "  'phno': 978765337,\n",
              "  'pr': 299,\n",
              "  'qn': 50},\n",
              " '1014': {'exp': 2050, 'name': 'Doll', 'phno': 878765337, 'pr': 399, 'qn': 50},\n",
              " '1015': {'exp': 2045,\n",
              "  'name': 'charger',\n",
              "  'phno': 178765337,\n",
              "  'pr': 599,\n",
              "  'qn': 50},\n",
              " '1016': {'exp': 2035,\n",
              "  'name': 'guitar',\n",
              "  'phno': 278765337,\n",
              "  'pr': 1099,\n",
              "  'qn': 50},\n",
              " '1017': {'exp': 2035,\n",
              "  'name': 'camera',\n",
              "  'phno': 278765337,\n",
              "  'pr': 1099,\n",
              "  'qn': 50},\n",
              " '1018': {'exp': 2035,\n",
              "  'name': 'Biscuit',\n",
              "  'phno': 9188765337,\n",
              "  'pr': 5,\n",
              "  'qn': 50},\n",
              " '1019': {'exp': 2035,\n",
              "  'name': 'Diarymilk',\n",
              "  'phno': 871165337,\n",
              "  'pr': 100,\n",
              "  'qn': 50},\n",
              " '1020': {'exp': 2035,\n",
              "  'name': 'Milkybar',\n",
              "  'phno': 98278765337,\n",
              "  'pr': 10,\n",
              "  'qn': 50},\n",
              " '1030': {'exp': 2022, 'name': 'doll', 'phno': 4135778, 'pr': 3500, 'qn': 200}}"
            ]
          },
          "metadata": {},
          "execution_count": 8
        }
      ]
    },
    {
      "cell_type": "markdown",
      "metadata": {
        "id": "ENMwKYtzPyk6"
      },
      "source": [
        "PURCHASE"
      ]
    },
    {
      "cell_type": "code",
      "metadata": {
        "colab": {
          "base_uri": "https://localhost:8080/"
        },
        "id": "JWkAEMcBPwZ9",
        "outputId": "8a0016bf-f2fb-4697-9198-634143b467cb"
      },
      "source": [
        "ui_prod=str(input(\"Enter prod id:\"))\n",
        "ui_quant=int(input(\"Enter quantity\"))\n"
      ],
      "execution_count": 9,
      "outputs": [
        {
          "name": "stdout",
          "output_type": "stream",
          "text": [
            "Enter prod id:1001\n",
            "Enter quantity34\n"
          ]
        }
      ]
    },
    {
      "cell_type": "code",
      "metadata": {
        "colab": {
          "base_uri": "https://localhost:8080/"
        },
        "id": "5yrCDmc1RsHX",
        "outputId": "b5744bb3-6909-45da-8cb6-f4eaca6fb9d7"
      },
      "source": [
        "records[ui_prod]['pr']*ui_quant"
      ],
      "execution_count": 10,
      "outputs": [
        {
          "output_type": "execute_result",
          "data": {
            "text/plain": [
              "3400"
            ]
          },
          "metadata": {},
          "execution_count": 10
        }
      ]
    },
    {
      "cell_type": "code",
      "metadata": {
        "colab": {
          "base_uri": "https://localhost:8080/"
        },
        "id": "yVaPqSliR9AP",
        "outputId": "d4e37779-8ae4-452d-d8c1-3822db889dd2"
      },
      "source": [
        "ui_prod=str(input(\"Enter prod id:\"))\n",
        "ui_quant=int(input(\"Enter quantity\"))\n",
        "\n",
        "print(\"product:\",records[ui_prod]['name'])\n",
        "print(\"price:\",records[ui_prod]['pr'])\n",
        "print(\"Billing Amount:\",records[ui_prod]['pr']*ui_quant)\n",
        "\n",
        "records[ui_prod]['qn']=records[ui_prod]['qn']-ui_quant\n"
      ],
      "execution_count": 11,
      "outputs": [
        {
          "output_type": "stream",
          "name": "stdout",
          "text": [
            "Enter prod id:1001\n",
            "Enter quantity34\n",
            "product: Choco Cake\n",
            "price: 100\n",
            "Billing Amount: 3400\n"
          ]
        }
      ]
    },
    {
      "cell_type": "markdown",
      "metadata": {
        "id": "_x1UMGuWS_FM"
      },
      "source": [
        "Update Inventory after purchase"
      ]
    },
    {
      "cell_type": "code",
      "metadata": {
        "id": "UqcGYM9lTGlj"
      },
      "source": [
        "js=json.dumps(records)\n",
        "fd=open(\"record.json\",'w')\n",
        "fd.write(js)\n",
        "fd.close()"
      ],
      "execution_count": 12,
      "outputs": []
    },
    {
      "cell_type": "markdown",
      "metadata": {
        "id": "4p5iZ7OQTnhx"
      },
      "source": [
        "Sales **JSON**"
      ]
    },
    {
      "cell_type": "code",
      "metadata": {
        "colab": {
          "base_uri": "https://localhost:8080/"
        },
        "id": "9EnYnYcBTWk3",
        "outputId": "997492e6-8ce6-42d5-a224-3e5427c4b6a2"
      },
      "source": [
        "{'prod':ui_prod,'qn':ui_quant,'amount':records[ui_prod]['pr']*ui_quant}"
      ],
      "execution_count": 21,
      "outputs": [
        {
          "output_type": "execute_result",
          "data": {
            "text/plain": [
              "{'amount': 3400, 'prod': '1001', 'qn': 34}"
            ]
          },
          "metadata": {},
          "execution_count": 21
        }
      ]
    },
    {
      "cell_type": "code",
      "metadata": {
        "id": "aicc7DETUTlz"
      },
      "source": [
        "sales={1:{'prod':ui_prod,'qn':ui_quant,'amount':records[ui_prod]['pr']*ui_quant},\n",
        "       2:{'prod':ui_prod,'qn':ui_quant,'amount':records[ui_prod]['pr']*ui_quant},\n",
        "       3:{'prod':ui_prod,'qn':ui_quant,'amount':records[ui_prod]['pr']*ui_quant},\n",
        "       4:{'prod':ui_prod,'qn':ui_quant,'amount':records[ui_prod]['pr']*ui_quant},\n",
        "       5:{'prod':ui_prod,'qn':ui_quant,'amount':records[ui_prod]['pr']*ui_quant},\n",
        "       6:{'prod':ui_prod,'qn':ui_quant,'amount':records[ui_prod]['pr']*ui_quant},\n",
        "       7:{'prod':ui_prod,'qn':ui_quant,'amount':records[ui_prod]['pr']*ui_quant},\n",
        "       8:{'prod':ui_prod,'qn':ui_quant,'amount':records[ui_prod]['pr']*ui_quant},\n",
        "       9:{'prod':ui_prod,'qn':ui_quant,'amount':records[ui_prod]['pr']*ui_quant},\n",
        "       10:{'prod':ui_prod,'qn':ui_quant,'amount':records[ui_prod]['pr']*ui_quant},\n",
        "       11:{'prod':ui_prod,'qn':ui_quant,'amount':records[ui_prod]['pr']*ui_quant},\n",
        "       12:{'prod':ui_prod,'qn':ui_quant,'amount':records[ui_prod]['pr']*ui_quant},\n",
        "       13:{'prod':ui_prod,'qn':ui_quant,'amount':records[ui_prod]['pr']*ui_quant},\n",
        "       14:{'prod':ui_prod,'qn':ui_quant,'amount':records[ui_prod]['pr']*ui_quant},\n",
        "       15:{'prod':ui_prod,'qn':ui_quant,'amount':records[ui_prod]['pr']*ui_quant},\n",
        "       16:{'prod':ui_prod,'qn':ui_quant,'amount':records[ui_prod]['pr']*ui_quant},\n",
        "       17:{'prod':ui_prod,'qn':ui_quant,'amount':records[ui_prod]['pr']*ui_quant},\n",
        "       18:{'prod':ui_prod,'qn':ui_quant,'amount':records[ui_prod]['pr']*ui_quant},\n",
        "       19:{'prod':ui_prod,'qn':ui_quant,'amount':records[ui_prod]['pr']*ui_quant},\n",
        "       20:{'prod':ui_prod,'qn':ui_quant,'amount':records[ui_prod]['pr']*ui_quant},\n",
        "       21:{'prod':ui_prod,'qn':ui_quant,'amount':records[ui_prod]['pr']*ui_quant},\n",
        "       22:{'prod':ui_prod,'qn':ui_quant,'amount':records[ui_prod]['pr']*ui_quant},\n",
        "       23:{'prod':ui_prod,'qn':ui_quant,'amount':records[ui_prod]['pr']*ui_quant},\n",
        "       24:{'prod':ui_prod,'qn':ui_quant,'amount':records[ui_prod]['pr']*ui_quant},\n",
        "       25:{'prod':ui_prod,'qn':ui_quant,'amount':records[ui_prod]['pr']*ui_quant},\n",
        "       26:{'prod':ui_prod,'qn':ui_quant,'amount':records[ui_prod]['pr']*ui_quant},\n",
        "       27:{'prod':ui_prod,'qn':ui_quant,'amount':records[ui_prod]['pr']*ui_quant},\n",
        "       28:{'prod':ui_prod,'qn':ui_quant,'amount':records[ui_prod]['pr']*ui_quant},\n",
        "       29:{'prod':ui_prod,'qn':ui_quant,'amount':records[ui_prod]['pr']*ui_quant},\n",
        "       30:{'prod':ui_prod,'qn':ui_quant,'amount':records[ui_prod]['pr']*ui_quant}}"
      ],
      "execution_count": 22,
      "outputs": []
    },
    {
      "cell_type": "code",
      "metadata": {
        "id": "E5dbqB0vWR1v"
      },
      "source": [
        "sale=json.dumps(sales)"
      ],
      "execution_count": 23,
      "outputs": []
    },
    {
      "cell_type": "code",
      "metadata": {
        "id": "jyiR8uoTWWZU"
      },
      "source": [
        "fd=open(\"sales.json\",'w')\n",
        "r=fd.write(sale)\n",
        "fd.close()"
      ],
      "execution_count": 24,
      "outputs": []
    },
    {
      "cell_type": "code",
      "metadata": {
        "colab": {
          "base_uri": "https://localhost:8080/",
          "height": 129
        },
        "id": "eK9RRw-PWoDI",
        "outputId": "58954fe4-f259-4c3a-9a01-7633fabb5f14"
      },
      "source": [
        "{len(sales)+1}:{'prod':ui_prod,'qn':ui_quant,'amount':records[ui_prod]['pr']*ui_quant}"
      ],
      "execution_count": 31,
      "outputs": [
        {
          "output_type": "error",
          "ename": "SyntaxError",
          "evalue": "ignored",
          "traceback": [
            "\u001b[0;36m  File \u001b[0;32m\"<ipython-input-31-109aef29b855>\"\u001b[0;36m, line \u001b[0;32m1\u001b[0m\n\u001b[0;31m    {len(sales)+1}:{'prod':ui_prod,'qn':ui_quant,'amount':records[ui_prod]['pr']*ui_quant}\u001b[0m\n\u001b[0m                                                                                          ^\u001b[0m\n\u001b[0;31mSyntaxError\u001b[0m\u001b[0;31m:\u001b[0m illegal target for annotation\n"
          ]
        }
      ]
    },
    {
      "cell_type": "code",
      "metadata": {
        "id": "LDe439e3XW_r"
      },
      "source": [
        "sales[(len(sales)+1)]={'prod':ui_prod,'qn':ui_quant,'amount':records[ui_prod]['pr']}"
      ],
      "execution_count": 28,
      "outputs": []
    }
  ]
}